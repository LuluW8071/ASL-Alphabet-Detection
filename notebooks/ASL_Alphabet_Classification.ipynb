{
  "nbformat": 4,
  "nbformat_minor": 0,
  "metadata": {
    "colab": {
      "provenance": [],
      "gpuType": "T4"
    },
    "kernelspec": {
      "name": "python3",
      "display_name": "Python 3"
    },
    "language_info": {
      "name": "python"
    },
    "accelerator": "GPU"
  },
  "cells": [
    {
      "cell_type": "code",
      "source": [
        "# Moves kaggle.json to root directory\n",
        "!mkdir -p ~/.kaggle\n",
        "!mv kaggle.json ~/.kaggle/\n",
        "!chmod 600 ~/.kaggle/kaggle.json"
      ],
      "metadata": {
        "id": "DZOfsSQ8fkh6"
      },
      "execution_count": 1,
      "outputs": []
    },
    {
      "cell_type": "markdown",
      "source": [
        "# Download and Extract Dataset from Kaggle\n",
        "\n",
        "This script downloads and extracts a dataset from Kaggle. The dataset is approximately 4GB in size, so the process may take up to 2-3 minutes.\n",
        "\n",
        "## Instructions\n",
        "\n",
        "1. Make sure you have a Kaggle account and have generated a Kaggle API token.\n",
        "2. Save the Kaggle API token as a JSON file named `kaggle.json`.\n",
        "3. Run the script with the `--json_path` argument pointing to the location of your `kaggle.json` file.\n",
        "\n",
        "## Script Overview\n",
        "\n",
        "- The script authenticates with the Kaggle API using the provided Kaggle API token.\n",
        "- It checks if the dataset zip file already exists in the current directory.\n",
        "- If the zip file doesn't exist, it downloads the dataset from Kaggle.\n",
        "- Once downloaded, it extracts the dataset to a directory named `dataset`.\n",
        "- Finally, it removes the zip file to conserve disk space.\n"
      ],
      "metadata": {
        "id": "iYBUx94pf-sz"
      }
    },
    {
      "cell_type": "code",
      "execution_count": 2,
      "metadata": {
        "id": "3avjcmhueGJm"
      },
      "outputs": [],
      "source": [
        "!python3 dataset_downloader.py --json_path \"kaggle.json\""
      ]
    },
    {
      "cell_type": "code",
      "source": [
        "!pip install efficientnet_pytorch torchinfo"
      ],
      "metadata": {
        "colab": {
          "base_uri": "https://localhost:8080/"
        },
        "id": "fft6urYaCHdi",
        "outputId": "28301c23-88d1-4430-ebb0-80c26f2801bc"
      },
      "execution_count": 30,
      "outputs": [
        {
          "output_type": "stream",
          "name": "stdout",
          "text": [
            "Collecting efficientnet_pytorch\n",
            "  Downloading efficientnet_pytorch-0.7.1.tar.gz (21 kB)\n",
            "  Preparing metadata (setup.py) ... \u001b[?25l\u001b[?25hdone\n",
            "Requirement already satisfied: torchinfo in /usr/local/lib/python3.10/dist-packages (1.8.0)\n",
            "Requirement already satisfied: torch in /usr/local/lib/python3.10/dist-packages (from efficientnet_pytorch) (2.1.0+cu121)\n",
            "Requirement already satisfied: filelock in /usr/local/lib/python3.10/dist-packages (from torch->efficientnet_pytorch) (3.13.1)\n",
            "Requirement already satisfied: typing-extensions in /usr/local/lib/python3.10/dist-packages (from torch->efficientnet_pytorch) (4.10.0)\n",
            "Requirement already satisfied: sympy in /usr/local/lib/python3.10/dist-packages (from torch->efficientnet_pytorch) (1.12)\n",
            "Requirement already satisfied: networkx in /usr/local/lib/python3.10/dist-packages (from torch->efficientnet_pytorch) (3.2.1)\n",
            "Requirement already satisfied: jinja2 in /usr/local/lib/python3.10/dist-packages (from torch->efficientnet_pytorch) (3.1.3)\n",
            "Requirement already satisfied: fsspec in /usr/local/lib/python3.10/dist-packages (from torch->efficientnet_pytorch) (2023.6.0)\n",
            "Requirement already satisfied: triton==2.1.0 in /usr/local/lib/python3.10/dist-packages (from torch->efficientnet_pytorch) (2.1.0)\n",
            "Requirement already satisfied: MarkupSafe>=2.0 in /usr/local/lib/python3.10/dist-packages (from jinja2->torch->efficientnet_pytorch) (2.1.5)\n",
            "Requirement already satisfied: mpmath>=0.19 in /usr/local/lib/python3.10/dist-packages (from sympy->torch->efficientnet_pytorch) (1.3.0)\n",
            "Building wheels for collected packages: efficientnet_pytorch\n",
            "  Building wheel for efficientnet_pytorch (setup.py) ... \u001b[?25l\u001b[?25hdone\n",
            "  Created wheel for efficientnet_pytorch: filename=efficientnet_pytorch-0.7.1-py3-none-any.whl size=16428 sha256=94ae5029af4cb56ec858259e241faedb670cfe830a37753f9b3d6f9c4cce599d\n",
            "  Stored in directory: /root/.cache/pip/wheels/03/3f/e9/911b1bc46869644912bda90a56bcf7b960f20b5187feea3baf\n",
            "Successfully built efficientnet_pytorch\n",
            "Installing collected packages: efficientnet_pytorch\n",
            "Successfully installed efficientnet_pytorch-0.7.1\n"
          ]
        }
      ]
    },
    {
      "cell_type": "code",
      "source": [
        "!python3 train.py"
      ],
      "metadata": {
        "colab": {
          "base_uri": "https://localhost:8080/"
        },
        "id": "2lPdbE1xnXoB",
        "outputId": "7f5ff4e3-89ea-4abf-8bde-255870c4788b"
      },
      "execution_count": 37,
      "outputs": [
        {
          "output_type": "stream",
          "name": "stdout",
          "text": [
            "Loaded pretrained weights for efficientnet-b0\n",
            "=================================================================================================================================================\n",
            "Layer (type (var_name))                                           Input Shape          Output Shape         Param #              Trainable\n",
            "=================================================================================================================================================\n",
            "EfficientNetB0 (EfficientNetB0)                                   [192, 3, 128, 128]   [192, 29]            --                   True\n",
            "├─EfficientNet (model)                                            [192, 3, 128, 128]   [192, 29]            --                   True\n",
            "│    └─Conv2dStaticSamePadding (_conv_stem)                       [192, 3, 128, 128]   [192, 32, 64, 64]    864                  True\n",
            "│    │    └─ZeroPad2d (static_padding)                            [192, 3, 128, 128]   [192, 3, 129, 129]   --                   --\n",
            "│    └─BatchNorm2d (_bn0)                                         [192, 32, 64, 64]    [192, 32, 64, 64]    64                   True\n",
            "│    └─MemoryEfficientSwish (_swish)                              [192, 32, 64, 64]    [192, 32, 64, 64]    --                   --\n",
            "│    └─ModuleList (_blocks)                                       --                   --                   --                   True\n",
            "│    │    └─MBConvBlock (0)                                       [192, 32, 64, 64]    [192, 16, 64, 64]    1,448                True\n",
            "│    │    └─MBConvBlock (1)                                       [192, 16, 64, 64]    [192, 24, 32, 32]    6,004                True\n",
            "│    │    └─MBConvBlock (2)                                       [192, 24, 32, 32]    [192, 24, 32, 32]    10,710               True\n",
            "│    │    └─MBConvBlock (3)                                       [192, 24, 32, 32]    [192, 40, 16, 16]    15,350               True\n",
            "│    │    └─MBConvBlock (4)                                       [192, 40, 16, 16]    [192, 40, 16, 16]    31,290               True\n",
            "│    │    └─MBConvBlock (5)                                       [192, 40, 16, 16]    [192, 80, 8, 8]      37,130               True\n",
            "│    │    └─MBConvBlock (6)                                       [192, 80, 8, 8]      [192, 80, 8, 8]      102,900              True\n",
            "│    │    └─MBConvBlock (7)                                       [192, 80, 8, 8]      [192, 80, 8, 8]      102,900              True\n",
            "│    │    └─MBConvBlock (8)                                       [192, 80, 8, 8]      [192, 112, 8, 8]     126,004              True\n",
            "│    │    └─MBConvBlock (9)                                       [192, 112, 8, 8]     [192, 112, 8, 8]     208,572              True\n",
            "│    │    └─MBConvBlock (10)                                      [192, 112, 8, 8]     [192, 112, 8, 8]     208,572              True\n",
            "│    │    └─MBConvBlock (11)                                      [192, 112, 8, 8]     [192, 192, 4, 4]     262,492              True\n",
            "│    │    └─MBConvBlock (12)                                      [192, 192, 4, 4]     [192, 192, 4, 4]     587,952              True\n",
            "│    │    └─MBConvBlock (13)                                      [192, 192, 4, 4]     [192, 192, 4, 4]     587,952              True\n",
            "│    │    └─MBConvBlock (14)                                      [192, 192, 4, 4]     [192, 192, 4, 4]     587,952              True\n",
            "│    │    └─MBConvBlock (15)                                      [192, 192, 4, 4]     [192, 320, 4, 4]     717,232              True\n",
            "│    └─Conv2dStaticSamePadding (_conv_head)                       [192, 320, 4, 4]     [192, 1280, 4, 4]    409,600              True\n",
            "│    │    └─Identity (static_padding)                             [192, 320, 4, 4]     [192, 320, 4, 4]     --                   --\n",
            "│    └─BatchNorm2d (_bn1)                                         [192, 1280, 4, 4]    [192, 1280, 4, 4]    2,560                True\n",
            "│    └─MemoryEfficientSwish (_swish)                              [192, 1280, 4, 4]    [192, 1280, 4, 4]    --                   --\n",
            "│    └─AdaptiveAvgPool2d (_avg_pooling)                           [192, 1280, 4, 4]    [192, 1280, 1, 1]    --                   --\n",
            "│    └─Dropout (_dropout)                                         [192, 1280]          [192, 1280]          --                   --\n",
            "│    └─Linear (_fc)                                               [192, 1280]          [192, 29]            37,149               True\n",
            "=================================================================================================================================================\n",
            "Total params: 4,044,697\n",
            "Trainable params: 4,044,697\n",
            "Non-trainable params: 0\n",
            "Total mult-adds (M): 15.20\n",
            "=================================================================================================================================================\n",
            "Input size (MB): 37.75\n",
            "Forward/backward pass size (MB): 3379.34\n",
            "Params size (MB): 0.32\n",
            "Estimated Total Size (MB): 3417.41\n",
            "=================================================================================================================================================\n",
            "  0% 0/5 [00:00<?, ?it/s]\n",
            "Epoch: 1 | Train loss: 0.2457 - Train acc: 92.81% -- Test_loss: 0.1507 -- Test_acc: 95.37%\n",
            " 20% 1/5 [10:23<41:35, 623.81s/it]\n",
            "Epoch: 2 | Train loss: 0.1055 - Train acc: 96.69% -- Test_loss: 0.0959 -- Test_acc: 97.08%\n",
            " 40% 2/5 [20:01<29:49, 596.40s/it]\n",
            "Epoch: 3 | Train loss: 0.0836 - Train acc: 97.38% -- Test_loss: 0.0912 -- Test_acc: 97.27%\n",
            " 60% 3/5 [29:42<19:38, 589.45s/it]\n",
            "Epoch: 4 | Train loss: 0.0738 - Train acc: 97.69% -- Test_loss: 0.0703 -- Test_acc: 97.96%\n",
            " 80% 4/5 [39:26<09:47, 587.24s/it]\n",
            "Epoch: 5 | Train loss: 0.0659 - Train acc: 97.91% -- Test_loss: 0.0761 -- Test_acc: 97.57%\n",
            "100% 5/5 [49:05<00:00, 589.03s/it]\n",
            "[INFO] Saving model to: models/resnet_model.pth\n"
          ]
        }
      ]
    },
    {
      "cell_type": "code",
      "source": [],
      "metadata": {
        "id": "IE8BZ6wQCFky"
      },
      "execution_count": null,
      "outputs": []
    }
  ]
}